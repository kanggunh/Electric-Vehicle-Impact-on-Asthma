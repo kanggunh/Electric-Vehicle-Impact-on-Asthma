{
 "cells": [
  {
   "cell_type": "markdown",
   "metadata": {},
   "source": [
    "# Electric Vehicle Impact on Asthma Visits in California\n",
    "\n",
    "Presentation Video link: https://www.youtube.com/watch?v=e97nte9lsUA\n",
    "\n",
    "\n",
    "## Abstract\n",
    "\n",
    "Our study aims to explore the correlation between the proportion of electric vehicles (EVs) among actively registered vehicles in California and the yearly frequency of asthma-related emergency department visits. As the global automotive industry undergoes a shift toward EVs, driven by regulations such as California's Advanced Clean Cars II, it becomes increasingly important to understand the health implications of this transition. Our hypothesis posits that the adoption of EVs and hybrid cars, driven by California laws and the resultant reduction in pollutants, will lead to a decline in asthma-related emergency visits. To test our hypothesis, we utilize datasets on asthma emergency visit rates and vehicle population trends from 2011 to 2019. We conduct exploratory data analysis and polynomial regression to discern potential relationships. \n",
    "\n",
    "In Section 1 of EDA, line plots visualize the evolution of asthma-related emergency visits and electric vehicle trends over the specified time frame. Initial observations suggest no direct correlation between asthma-related visits and specific fuel types, indicating a nuanced relationship. The line plots illustrate a significant increase in the raw number of electric vehicles, particularly battery electric cars, over the years. However, when considering proportions, there is a decrease in the proportion of non-electric and hybrid vehicles, while the proportions of battery electric and hybrid vehicles steadily increase.\n",
    "\n",
    "In Section 2 of EDA, we employ polynomial regression to further examine the relationship between electric vehicles and asthma-related emergency visits. The scatter plot showcases variability in the data, and the polynomial regression reveals a lack of a distinct pattern, indicating the absence of a straightforward relationship between the two variables. The graph suggests a weak positive correlation between the number of electric vehicles and the average number of asthma-related emergency visits, as indicated by the correlation coefficient. This finding challenges the hypothesis that increasing electric vehicle adoption directly leads to a reduction in asthma-related emergency visits, highlighting the need for further investigation and consideration of additional factors influencing public health outcomes. Our research contributes to the existing body of knowledge on electric vehicles and their potential health effects. Although our findings question the belief that the adoption of electric vehicles directly affects emergency visits for asthma, further investigation is necessary to understand the extent of the impact."
   ]
  },
  {
   "cell_type": "markdown",
   "metadata": {},
   "source": [
    "## Research Question"
   ]
  },
  {
   "cell_type": "markdown",
   "metadata": {},
   "source": [
    "How does the proportion of electric vehicles among actively registered vehicles in California correlate with the yearly frequency of asthma-related emergency visits?"
   ]
  },
  {
   "cell_type": "markdown",
   "metadata": {},
   "source": [
    "## Background and Prior Work"
   ]
  },
  {
   "cell_type": "markdown",
   "metadata": {},
   "source": [
    "In recent years, the global automotive industry has experienced a transformation with the increasing adoption of electric vehicles (EVs). These vehicles are powered by electricity rather than internal combustion engines. They have been widely regarded as a potential solution to reduce air pollution and associated health consequences. It has been shown that electric vehicles lead to substantial air pollution health benefits in the United States.<a name=\"c1\"></a><sup>[1](#f1)</sup>\n",
    "\n",
    "The Advanced Clean Cars II (ACC II) regulations, by California, requires automaker sales to incrementally transition to only EV sales by 2035.<a name=\"c2\"></a><sup>[2](#f2)</sup> The shift toward EVs has raised questions regarding the extent to which increasing electric vehicle adoption correlates with reduced air pollution and the consequent effects on public health. In this project, we will investigate to what extent increasing electric vehicle adoption correlates with positive health outcomes in the region of California. The key health outcome of interest is the reduction of asthma-related emergency care visits, which are often exacerbated by poor air quality. We intend to reveal the tangible and positive health effects associated with cleaner transportation methods.\n",
    "\n",
    "A similar study done by researchers at USC’s Keck School of Medicine found that the early adoption of electric vehicles in Los Angeles, California did have an impact on pollution and overall air quality.<a name=\"c3\"></a><sup>[3](#f3)</sup> Emergency room visits due to asthma decreased by 3.2% in a year with every increase of 20 ZEVs per 1000 people (within-zip code). Their study also revealed that EV adoption was significantly lower in zip codes with lower educational attainment; thus, these populations with lower socioeconomic status continue to face more pollution and the respiratory complications that come with it.\n",
    "\n",
    "Our goal is to replicate the findings in a larger region and examine the trends between EV adoption and ER visits due to asthma in California. We want to explore whether or not EV adoption has a significant impact on health as it relates to asthma.\n",
    "\n",
    "---\n",
    "\n",
    "### References\n",
    "\n",
    "<a name=\"f1\">1</a>: Choma, E. F. (25 Aug 2020). *Assessing the health impacts of electric vehicles through air pollution in the United States*. Elsevier. [Link](https://www.sciencedirect.com/science/article/pii/S016041202031970X) [↩](#c1)\n",
    "\n",
    "<a name=\"f2\">2</a>: Garcia, E. (2023). *Advanced Clean Cars II*. Science of The Total Environment. [Link](https://ww2.arb.ca.gov/our-work/programs/advanced-clean-cars-program/advanced-clean-cars-ii) [↩](#c2)\n",
    "\n",
    "<a name=\"f3\">3</a>: Wilentz, D. (8 May 2023). *Analyzing California’s electric vehicle adoption rate*. Medium. [Link](https://www.sciencedirect.com/science/article/pii/S016041202031970X) [↩](#c3)\n"
   ]
  },
  {
   "cell_type": "markdown",
   "metadata": {},
   "source": [
    "## Hypothesis\n"
   ]
  },
  {
   "cell_type": "markdown",
   "metadata": {},
   "source": [
    "Due to California laws and the reduced pollutants emitted by electrical vehicles, we predict an increase in the adoption of electric vehicles and hybrid cars in California, which lead to a reduction in asthma related emergency-visits. The time period observed will be between 2011-2019."
   ]
  },
  {
   "cell_type": "markdown",
   "metadata": {},
   "source": [
    "## Data overview\n",
    "**Dataset 1**: https://data.chhs.ca.gov/dataset/asthma-ed-visit-rates-lghc-indicator-07 \n",
    "\n",
    "**Dataset 2**: https://www.energy.ca.gov/files/zev-and-infrastructure-stats-data \n",
    "\n",
    "\n",
    "For each dataset include the following information\n",
    "- Dataset #1\n",
    "  - **Dataset Name**: Asthma ED Visit Rates (Let's Get Healthy California Indicator)\n",
    "  - **Link to the dataset**: [dataset 1](https://data.chhs.ca.gov/dataset/asthma-ed-visit-rates-lghc-indicator-07 )\n",
    "  - **Number of observations**:  9,484\n",
    "  - **Number of variables**: 9\n",
    "- Dataset #2\n",
    "  - **Dataset Name**: Vehicle Population\n",
    "  - **Link to the dataset**: [dataset 2](https://www.energy.ca.gov/files/zev-and-infrastructure-stats-data)\n",
    "  - **Number of observations**: 27206\n",
    "  - **Number of variables**: 7 "
   ]
  },
  {
   "cell_type": "markdown",
   "metadata": {},
   "source": [
    "### Dataset #1 (Asthma ED Visit Rates) description:\n",
    "\n",
    "The dataset includes the number of asthma emergency department visits and corresponding rates per 10,000 residents in California. The data is categorized by county and age group, including all ages, 0-17, and 18+. The variables include Geography, Year, Age Group, Strata, Strata Name, Numerator, Rate, LGHC Indicator ID, and LGHC Target Rate. These variables offer a comprehensive view of asthma-related emergency department visits in California, considering both absolute counts and normalized rates, while accounting for geographical and age-related factors. Counts and rates were not provided when the number of events was less than 12. The dataset is cleaned in order to focus on California as a whole by excluding the county column.\n",
    "\n",
    "We plan to combine the datasets to determine if there is a correlation between an increase in the adoption of electric vehicles and a decrease in asthma related emergency department visits in California. We aim to assess the proportion of electric vehicles among actively registered vehicles and compare it with the number of asthma-related emergency department visits in California on a yearly basis.\n"
   ]
  },
  {
   "cell_type": "markdown",
   "metadata": {},
   "source": [
    "### Dataset #2 (Vehicle Population) description:\n",
    "\n",
    "  This data includes the actively registered vehicles in the state of california (or less than 35 days expired). The data does not account for accidents, vehicle retirements, owners moving out of state, or other specific reasons. With this data, we are able to see the trends in active California vehicles each year as it pertains to electric vehicle types. Since dataset #1 only contains data from 2011 to 2019, we clean the data to only represent these years. We also remove any data points labeled “Out of State” within the County column, and recategorize the data as mentioned below.\n",
    "\n",
    "The data is split into:\n",
    "- Data year \n",
    "- County \n",
    "- Dashboard fuel type group \n",
    "- Fuel type \n",
    "- Make \n",
    "- Model\n",
    "- Number of vehicles\n",
    "\n",
    "For the purpose of our research question, we will only be using Data Year, County, Dashboard Fuel Type Group, and Number of Vehicles. \n",
    "\n",
    "Within the dashboard fuel type group, the vehicles consist of:\n",
    "\n",
    "- Plug-in Hybrid (PHEV) \n",
    "- Battery Electric (BEV) \n",
    "- Gasoline \n",
    "- Other \n",
    "- Diesel \n",
    "- Gasoline Hybrid \n",
    "- Fuel Cell (FCEV)\n",
    "\n",
    "For the goal of our research, we recategorized these fuel types into BEV (B), Hybrid (H), and Non-Electric (N), making sure to confirm the fuel type of “‘Other”.\n"
   ]
  },
  {
   "cell_type": "markdown",
   "metadata": {},
   "source": [
    "## Dataset #1 (Asthma ED Visit Rates)"
   ]
  },
  {
   "cell_type": "code",
   "execution_count": 1,
   "metadata": {},
   "outputs": [],
   "source": [
    "import pandas as pd\n",
    "import numpy as np\n",
    "import matplotlib.pyplot as plt\n",
    "\n",
    "import seaborn as sns\n",
    "sns.set(font_scale=2, style=\"white\")"
   ]
  },
  {
   "cell_type": "code",
   "execution_count": 2,
   "metadata": {},
   "outputs": [
    {
     "data": {
      "text/html": [
       "<div>\n",
       "<style scoped>\n",
       "    .dataframe tbody tr th:only-of-type {\n",
       "        vertical-align: middle;\n",
       "    }\n",
       "\n",
       "    .dataframe tbody tr th {\n",
       "        vertical-align: top;\n",
       "    }\n",
       "\n",
       "    .dataframe thead th {\n",
       "        text-align: right;\n",
       "    }\n",
       "</style>\n",
       "<table border=\"1\" class=\"dataframe\">\n",
       "  <thead>\n",
       "    <tr style=\"text-align: right;\">\n",
       "      <th></th>\n",
       "      <th>LGHC Indicator Name</th>\n",
       "      <th>Geography</th>\n",
       "      <th>Year</th>\n",
       "      <th>Age Group</th>\n",
       "      <th>Strata</th>\n",
       "      <th>Strata Name</th>\n",
       "      <th>Numerator</th>\n",
       "      <th>Rate</th>\n",
       "      <th>LGHC Indicator ID</th>\n",
       "      <th>LGHC Target Rate</th>\n",
       "    </tr>\n",
       "  </thead>\n",
       "  <tbody>\n",
       "    <tr>\n",
       "      <th>0</th>\n",
       "      <td>Asthma ED Visit Rates</td>\n",
       "      <td>Alameda</td>\n",
       "      <td>2015</td>\n",
       "      <td>18 and Over</td>\n",
       "      <td>Total Population</td>\n",
       "      <td>18 and Over</td>\n",
       "      <td>6,513</td>\n",
       "      <td>53.1</td>\n",
       "      <td>7</td>\n",
       "      <td>28</td>\n",
       "    </tr>\n",
       "    <tr>\n",
       "      <th>1</th>\n",
       "      <td>Asthma ED Visit Rates</td>\n",
       "      <td>Amador</td>\n",
       "      <td>2015</td>\n",
       "      <td>18 and Over</td>\n",
       "      <td>Total Population</td>\n",
       "      <td>18 and Over</td>\n",
       "      <td>151</td>\n",
       "      <td>49.1</td>\n",
       "      <td>7</td>\n",
       "      <td>28</td>\n",
       "    </tr>\n",
       "    <tr>\n",
       "      <th>2</th>\n",
       "      <td>Asthma ED Visit Rates</td>\n",
       "      <td>Butte</td>\n",
       "      <td>2015</td>\n",
       "      <td>18 and Over</td>\n",
       "      <td>Total Population</td>\n",
       "      <td>18 and Over</td>\n",
       "      <td>736</td>\n",
       "      <td>43.8</td>\n",
       "      <td>7</td>\n",
       "      <td>28</td>\n",
       "    </tr>\n",
       "    <tr>\n",
       "      <th>3</th>\n",
       "      <td>Asthma ED Visit Rates</td>\n",
       "      <td>Calaveras</td>\n",
       "      <td>2015</td>\n",
       "      <td>18 and Over</td>\n",
       "      <td>Total Population</td>\n",
       "      <td>18 and Over</td>\n",
       "      <td>139</td>\n",
       "      <td>42.7</td>\n",
       "      <td>7</td>\n",
       "      <td>28</td>\n",
       "    </tr>\n",
       "    <tr>\n",
       "      <th>4</th>\n",
       "      <td>Asthma ED Visit Rates</td>\n",
       "      <td>California</td>\n",
       "      <td>2015</td>\n",
       "      <td>18 and Over</td>\n",
       "      <td>Total Population</td>\n",
       "      <td>18 and Over</td>\n",
       "      <td>117,854</td>\n",
       "      <td>40.0</td>\n",
       "      <td>7</td>\n",
       "      <td>28</td>\n",
       "    </tr>\n",
       "  </tbody>\n",
       "</table>\n",
       "</div>"
      ],
      "text/plain": [
       "     LGHC Indicator Name   Geography  Year    Age Group            Strata  \\\n",
       "0  Asthma ED Visit Rates     Alameda  2015  18 and Over  Total Population   \n",
       "1  Asthma ED Visit Rates      Amador  2015  18 and Over  Total Population   \n",
       "2  Asthma ED Visit Rates       Butte  2015  18 and Over  Total Population   \n",
       "3  Asthma ED Visit Rates   Calaveras  2015  18 and Over  Total Population   \n",
       "4  Asthma ED Visit Rates  California  2015  18 and Over  Total Population   \n",
       "\n",
       "   Strata Name Numerator  Rate  LGHC Indicator ID  LGHC Target Rate  \n",
       "0  18 and Over     6,513  53.1                  7                28  \n",
       "1  18 and Over       151  49.1                  7                28  \n",
       "2  18 and Over       736  43.8                  7                28  \n",
       "3  18 and Over       139  42.7                  7                28  \n",
       "4  18 and Over   117,854  40.0                  7                28  "
      ]
     },
     "execution_count": 2,
     "metadata": {},
     "output_type": "execute_result"
    }
   ],
   "source": [
    "# The DataFrame\n",
    "asthma_data = pd.read_csv('asthma-ed-visit-rates_2019.csv')\n",
    "asthma_data.head()"
   ]
  },
  {
   "cell_type": "code",
   "execution_count": 3,
   "metadata": {},
   "outputs": [
    {
     "data": {
      "text/plain": [
       "(9484, 10)"
      ]
     },
     "execution_count": 3,
     "metadata": {},
     "output_type": "execute_result"
    }
   ],
   "source": [
    "#shape\n",
    "asthma_data.shape"
   ]
  },
  {
   "cell_type": "code",
   "execution_count": 4,
   "metadata": {},
   "outputs": [
    {
     "data": {
      "text/plain": [
       "Year\n",
       "2019    1102\n",
       "2017    1061\n",
       "2014    1059\n",
       "2015    1058\n",
       "2016    1050\n",
       "2018    1048\n",
       "2013    1043\n",
       "2012    1035\n",
       "2011    1028\n",
       "Name: count, dtype: int64"
      ]
     },
     "execution_count": 4,
     "metadata": {},
     "output_type": "execute_result"
    }
   ],
   "source": [
    "#list of Years\n",
    "asthma_data['Year'].value_counts()\n",
    "#seem like is have almost a equal number of data point for each of the year from 2011 to 2019"
   ]
  },
  {
   "cell_type": "code",
   "execution_count": 5,
   "metadata": {},
   "outputs": [
    {
     "data": {
      "text/html": [
       "<div>\n",
       "<style scoped>\n",
       "    .dataframe tbody tr th:only-of-type {\n",
       "        vertical-align: middle;\n",
       "    }\n",
       "\n",
       "    .dataframe tbody tr th {\n",
       "        vertical-align: top;\n",
       "    }\n",
       "\n",
       "    .dataframe thead th {\n",
       "        text-align: right;\n",
       "    }\n",
       "</style>\n",
       "<table border=\"1\" class=\"dataframe\">\n",
       "  <thead>\n",
       "    <tr style=\"text-align: right;\">\n",
       "      <th></th>\n",
       "      <th>Year</th>\n",
       "      <th>Rate</th>\n",
       "      <th>LGHC Indicator ID</th>\n",
       "      <th>LGHC Target Rate</th>\n",
       "    </tr>\n",
       "  </thead>\n",
       "  <tbody>\n",
       "    <tr>\n",
       "      <th>count</th>\n",
       "      <td>9484.000000</td>\n",
       "      <td>9370.000000</td>\n",
       "      <td>9484.0</td>\n",
       "      <td>9484.0</td>\n",
       "    </tr>\n",
       "    <tr>\n",
       "      <th>mean</th>\n",
       "      <td>2015.038170</td>\n",
       "      <td>66.991793</td>\n",
       "      <td>7.0</td>\n",
       "      <td>28.0</td>\n",
       "    </tr>\n",
       "    <tr>\n",
       "      <th>std</th>\n",
       "      <td>2.584401</td>\n",
       "      <td>86.053953</td>\n",
       "      <td>0.0</td>\n",
       "      <td>0.0</td>\n",
       "    </tr>\n",
       "    <tr>\n",
       "      <th>min</th>\n",
       "      <td>2011.000000</td>\n",
       "      <td>5.200000</td>\n",
       "      <td>7.0</td>\n",
       "      <td>28.0</td>\n",
       "    </tr>\n",
       "    <tr>\n",
       "      <th>25%</th>\n",
       "      <td>2013.000000</td>\n",
       "      <td>33.800000</td>\n",
       "      <td>7.0</td>\n",
       "      <td>28.0</td>\n",
       "    </tr>\n",
       "    <tr>\n",
       "      <th>50%</th>\n",
       "      <td>2015.000000</td>\n",
       "      <td>48.900000</td>\n",
       "      <td>7.0</td>\n",
       "      <td>28.0</td>\n",
       "    </tr>\n",
       "    <tr>\n",
       "      <th>75%</th>\n",
       "      <td>2017.000000</td>\n",
       "      <td>71.600000</td>\n",
       "      <td>7.0</td>\n",
       "      <td>28.0</td>\n",
       "    </tr>\n",
       "    <tr>\n",
       "      <th>max</th>\n",
       "      <td>2019.000000</td>\n",
       "      <td>4564.100000</td>\n",
       "      <td>7.0</td>\n",
       "      <td>28.0</td>\n",
       "    </tr>\n",
       "  </tbody>\n",
       "</table>\n",
       "</div>"
      ],
      "text/plain": [
       "              Year         Rate  LGHC Indicator ID  LGHC Target Rate\n",
       "count  9484.000000  9370.000000             9484.0            9484.0\n",
       "mean   2015.038170    66.991793                7.0              28.0\n",
       "std       2.584401    86.053953                0.0               0.0\n",
       "min    2011.000000     5.200000                7.0              28.0\n",
       "25%    2013.000000    33.800000                7.0              28.0\n",
       "50%    2015.000000    48.900000                7.0              28.0\n",
       "75%    2017.000000    71.600000                7.0              28.0\n",
       "max    2019.000000  4564.100000                7.0              28.0"
      ]
     },
     "execution_count": 5,
     "metadata": {},
     "output_type": "execute_result"
    }
   ],
   "source": [
    "#Quick summary statistics\n",
    "asthma_data.describe()"
   ]
  },
  {
   "cell_type": "markdown",
   "metadata": {},
   "source": [
    "### Lets check which columns might actually be useful"
   ]
  },
  {
   "cell_type": "code",
   "execution_count": 6,
   "metadata": {},
   "outputs": [
    {
     "data": {
      "text/plain": [
       "LGHC Indicator Name\n",
       "Asthma ED Visit Rates    9484\n",
       "Name: count, dtype: int64"
      ]
     },
     "execution_count": 6,
     "metadata": {},
     "output_type": "execute_result"
    }
   ],
   "source": [
    "asthma_data['LGHC Indicator Name'].value_counts()\n",
    "#seems like this contributes nothing to our analysis"
   ]
  },
  {
   "cell_type": "code",
   "execution_count": 7,
   "metadata": {},
   "outputs": [
    {
     "data": {
      "text/plain": [
       "Age Group\n",
       "All Ages       3378\n",
       "18 and Over    3209\n",
       "Under 18       2895\n",
       "Under 20          1\n",
       "Under 19          1\n",
       "Name: count, dtype: int64"
      ]
     },
     "execution_count": 7,
     "metadata": {},
     "output_type": "execute_result"
    }
   ],
   "source": [
    "asthma_data['Age Group'].value_counts()\n",
    "#this might help when trying to see if asthma just happened by age"
   ]
  },
  {
   "cell_type": "code",
   "execution_count": 8,
   "metadata": {},
   "outputs": [
    {
     "data": {
      "text/plain": [
       "Strata\n",
       "Race-Ethnicity      4969\n",
       "Sex                 2980\n",
       "Total Population    1535\n",
       "Name: count, dtype: int64"
      ]
     },
     "execution_count": 8,
     "metadata": {},
     "output_type": "execute_result"
    }
   ],
   "source": [
    "asthma_data['Strata'].value_counts()\n",
    "#this has some mixed unhelpful information so we will exclude this column"
   ]
  },
  {
   "cell_type": "code",
   "execution_count": 9,
   "metadata": {},
   "outputs": [
    {
     "data": {
      "text/plain": [
       "Strata Name\n",
       "White                             1508\n",
       "Male                              1501\n",
       "Female                            1479\n",
       "Hispanic                          1308\n",
       "African-American                   995\n",
       "Asian/Pacific Islander             779\n",
       "All Ages                           520\n",
       "18 and Over                        514\n",
       "Under 18                           501\n",
       "American Indian/Alaskan Native     320\n",
       "Multiracial                         59\n",
       "Name: count, dtype: int64"
      ]
     },
     "execution_count": 9,
     "metadata": {},
     "output_type": "execute_result"
    }
   ],
   "source": [
    "asthma_data['Strata Name'].value_counts()\n",
    "#this has mixed information so we will exclude this column"
   ]
  },
  {
   "cell_type": "code",
   "execution_count": 10,
   "metadata": {},
   "outputs": [
    {
     "data": {
      "text/plain": [
       "LGHC Indicator ID\n",
       "7    9484\n",
       "Name: count, dtype: int64"
      ]
     },
     "execution_count": 10,
     "metadata": {},
     "output_type": "execute_result"
    }
   ],
   "source": [
    "asthma_data['LGHC Indicator ID'].value_counts()\n",
    "#this only has one value, which means it will not contribute anything analysis"
   ]
  },
  {
   "cell_type": "code",
   "execution_count": 11,
   "metadata": {},
   "outputs": [
    {
     "data": {
      "text/plain": [
       "LGHC Target Rate\n",
       "28    9484\n",
       "Name: count, dtype: int64"
      ]
     },
     "execution_count": 11,
     "metadata": {},
     "output_type": "execute_result"
    }
   ],
   "source": [
    "asthma_data['LGHC Target Rate'].value_counts()\n",
    "#this only has one value, which means it will not contribute our analysis"
   ]
  },
  {
   "cell_type": "markdown",
   "metadata": {},
   "source": [
    "### Let us check for the datatypes|"
   ]
  },
  {
   "cell_type": "code",
   "execution_count": 12,
   "metadata": {},
   "outputs": [
    {
     "data": {
      "text/plain": [
       "LGHC Indicator Name     object\n",
       "Geography               object\n",
       "Year                     int64\n",
       "Age Group               object\n",
       "Strata                  object\n",
       "Strata Name             object\n",
       "Numerator               object\n",
       "Rate                   float64\n",
       "LGHC Indicator ID        int64\n",
       "LGHC Target Rate         int64\n",
       "dtype: object"
      ]
     },
     "execution_count": 12,
     "metadata": {},
     "output_type": "execute_result"
    }
   ],
   "source": [
    "asthma_data.dtypes"
   ]
  },
  {
   "cell_type": "markdown",
   "metadata": {},
   "source": [
    "**Numerator has some string values, lets change that to integer values we can work with**"
   ]
  },
  {
   "cell_type": "code",
   "execution_count": 13,
   "metadata": {},
   "outputs": [],
   "source": [
    "asthma_data['Numerator'] = asthma_data['Numerator'].str.replace(',','').apply(lambda x: int(x))"
   ]
  },
  {
   "cell_type": "markdown",
   "metadata": {},
   "source": [
    "**check for missing data**"
   ]
  },
  {
   "cell_type": "code",
   "execution_count": 14,
   "metadata": {},
   "outputs": [
    {
     "data": {
      "text/plain": [
       "LGHC Indicator Name    False\n",
       "Geography              False\n",
       "Year                   False\n",
       "Age Group              False\n",
       "Strata                 False\n",
       "Strata Name            False\n",
       "Numerator              False\n",
       "Rate                    True\n",
       "LGHC Indicator ID      False\n",
       "LGHC Target Rate       False\n",
       "dtype: bool"
      ]
     },
     "execution_count": 14,
     "metadata": {},
     "output_type": "execute_result"
    }
   ],
   "source": [
    "asthma_data.isna().any()"
   ]
  },
  {
   "cell_type": "markdown",
   "metadata": {},
   "source": [
    "The rate is missing for those who have counts under 12. In other words, the 'Rate' was missing by design. So we will just drop these.\n",
    "\n",
    "But let's just make sure that this description is true."
   ]
  },
  {
   "cell_type": "code",
   "execution_count": 15,
   "metadata": {},
   "outputs": [
    {
     "data": {
      "text/html": [
       "<div>\n",
       "<style scoped>\n",
       "    .dataframe tbody tr th:only-of-type {\n",
       "        vertical-align: middle;\n",
       "    }\n",
       "\n",
       "    .dataframe tbody tr th {\n",
       "        vertical-align: top;\n",
       "    }\n",
       "\n",
       "    .dataframe thead th {\n",
       "        text-align: right;\n",
       "    }\n",
       "</style>\n",
       "<table border=\"1\" class=\"dataframe\">\n",
       "  <thead>\n",
       "    <tr style=\"text-align: right;\">\n",
       "      <th></th>\n",
       "      <th>rate_missing = False</th>\n",
       "      <th>rate_missing = True</th>\n",
       "    </tr>\n",
       "    <tr>\n",
       "      <th>Under_11</th>\n",
       "      <th></th>\n",
       "      <th></th>\n",
       "    </tr>\n",
       "  </thead>\n",
       "  <tbody>\n",
       "    <tr>\n",
       "      <th>False</th>\n",
       "      <td>1.0</td>\n",
       "      <td>NaN</td>\n",
       "    </tr>\n",
       "    <tr>\n",
       "      <th>True</th>\n",
       "      <td>NaN</td>\n",
       "      <td>1.0</td>\n",
       "    </tr>\n",
       "  </tbody>\n",
       "</table>\n",
       "</div>"
      ],
      "text/plain": [
       "          rate_missing = False  rate_missing = True\n",
       "Under_11                                           \n",
       "False                      1.0                  NaN\n",
       "True                       NaN                  1.0"
      ]
     },
     "execution_count": 15,
     "metadata": {},
     "output_type": "execute_result"
    }
   ],
   "source": [
    "df_temp = asthma_data.copy()[['Numerator', 'Rate']]\n",
    "df_temp['Under_11'] = asthma_data['Numerator'] <= 11\n",
    "dist = (\n",
    "    df_temp\n",
    "    .assign(rate_missing=df_temp['Rate'].isna())\n",
    "    .pivot_table(index='Under_11', columns='rate_missing', aggfunc='size')\n",
    ")\n",
    "dist.columns = ['rate_missing = False', 'rate_missing = True']\n",
    "dist = dist / dist.sum()\n",
    "dist"
   ]
  },
  {
   "cell_type": "markdown",
   "metadata": {},
   "source": [
    "It is clear that the rates are missing only when the 'Numerator' is less than or equal to 11."
   ]
  },
  {
   "cell_type": "code",
   "execution_count": 16,
   "metadata": {},
   "outputs": [],
   "source": [
    "#drop the missing value\n",
    "asthma_data = asthma_data.dropna()"
   ]
  },
  {
   "cell_type": "code",
   "execution_count": 17,
   "metadata": {},
   "outputs": [
    {
     "data": {
      "text/html": [
       "<div>\n",
       "<style scoped>\n",
       "    .dataframe tbody tr th:only-of-type {\n",
       "        vertical-align: middle;\n",
       "    }\n",
       "\n",
       "    .dataframe tbody tr th {\n",
       "        vertical-align: top;\n",
       "    }\n",
       "\n",
       "    .dataframe thead th {\n",
       "        text-align: right;\n",
       "    }\n",
       "</style>\n",
       "<table border=\"1\" class=\"dataframe\">\n",
       "  <thead>\n",
       "    <tr style=\"text-align: right;\">\n",
       "      <th></th>\n",
       "      <th>Year</th>\n",
       "      <th>Rate</th>\n",
       "      <th>Age Group</th>\n",
       "      <th>Numerator</th>\n",
       "    </tr>\n",
       "  </thead>\n",
       "  <tbody>\n",
       "    <tr>\n",
       "      <th>0</th>\n",
       "      <td>2015</td>\n",
       "      <td>53.1</td>\n",
       "      <td>18 and Over</td>\n",
       "      <td>6513</td>\n",
       "    </tr>\n",
       "    <tr>\n",
       "      <th>1</th>\n",
       "      <td>2015</td>\n",
       "      <td>49.1</td>\n",
       "      <td>18 and Over</td>\n",
       "      <td>151</td>\n",
       "    </tr>\n",
       "    <tr>\n",
       "      <th>2</th>\n",
       "      <td>2015</td>\n",
       "      <td>43.8</td>\n",
       "      <td>18 and Over</td>\n",
       "      <td>736</td>\n",
       "    </tr>\n",
       "    <tr>\n",
       "      <th>3</th>\n",
       "      <td>2015</td>\n",
       "      <td>42.7</td>\n",
       "      <td>18 and Over</td>\n",
       "      <td>139</td>\n",
       "    </tr>\n",
       "    <tr>\n",
       "      <th>4</th>\n",
       "      <td>2015</td>\n",
       "      <td>40.0</td>\n",
       "      <td>18 and Over</td>\n",
       "      <td>117854</td>\n",
       "    </tr>\n",
       "    <tr>\n",
       "      <th>...</th>\n",
       "      <td>...</td>\n",
       "      <td>...</td>\n",
       "      <td>...</td>\n",
       "      <td>...</td>\n",
       "    </tr>\n",
       "    <tr>\n",
       "      <th>9479</th>\n",
       "      <td>2019</td>\n",
       "      <td>81.2</td>\n",
       "      <td>Under 18</td>\n",
       "      <td>597</td>\n",
       "    </tr>\n",
       "    <tr>\n",
       "      <th>9480</th>\n",
       "      <td>2019</td>\n",
       "      <td>90.0</td>\n",
       "      <td>Under 18</td>\n",
       "      <td>37</td>\n",
       "    </tr>\n",
       "    <tr>\n",
       "      <th>9481</th>\n",
       "      <td>2019</td>\n",
       "      <td>61.0</td>\n",
       "      <td>Under 18</td>\n",
       "      <td>602</td>\n",
       "    </tr>\n",
       "    <tr>\n",
       "      <th>9482</th>\n",
       "      <td>2019</td>\n",
       "      <td>52.4</td>\n",
       "      <td>Under 18</td>\n",
       "      <td>135</td>\n",
       "    </tr>\n",
       "    <tr>\n",
       "      <th>9483</th>\n",
       "      <td>2019</td>\n",
       "      <td>52.9</td>\n",
       "      <td>Under 18</td>\n",
       "      <td>59</td>\n",
       "    </tr>\n",
       "  </tbody>\n",
       "</table>\n",
       "<p>9370 rows × 4 columns</p>\n",
       "</div>"
      ],
      "text/plain": [
       "      Year  Rate    Age Group  Numerator\n",
       "0     2015  53.1  18 and Over       6513\n",
       "1     2015  49.1  18 and Over        151\n",
       "2     2015  43.8  18 and Over        736\n",
       "3     2015  42.7  18 and Over        139\n",
       "4     2015  40.0  18 and Over     117854\n",
       "...    ...   ...          ...        ...\n",
       "9479  2019  81.2     Under 18        597\n",
       "9480  2019  90.0     Under 18         37\n",
       "9481  2019  61.0     Under 18        602\n",
       "9482  2019  52.4     Under 18        135\n",
       "9483  2019  52.9     Under 18         59\n",
       "\n",
       "[9370 rows x 4 columns]"
      ]
     },
     "execution_count": 17,
     "metadata": {},
     "output_type": "execute_result"
    }
   ],
   "source": [
    "#final cleaned dataframe\n",
    "asthma_df = asthma_data[['Year', 'Rate', 'Age Group', 'Numerator']]\n",
    "asthma_df"
   ]
  },
  {
   "cell_type": "markdown",
   "metadata": {},
   "source": [
    "## Dataset #2 (Vehicle Data in California)"
   ]
  },
  {
   "cell_type": "code",
   "execution_count": 18,
   "metadata": {},
   "outputs": [
    {
     "data": {
      "text/html": [
       "<div>\n",
       "<style scoped>\n",
       "    .dataframe tbody tr th:only-of-type {\n",
       "        vertical-align: middle;\n",
       "    }\n",
       "\n",
       "    .dataframe tbody tr th {\n",
       "        vertical-align: top;\n",
       "    }\n",
       "\n",
       "    .dataframe thead th {\n",
       "        text-align: right;\n",
       "    }\n",
       "</style>\n",
       "<table border=\"1\" class=\"dataframe\">\n",
       "  <thead>\n",
       "    <tr style=\"text-align: right;\">\n",
       "      <th></th>\n",
       "      <th>Data Year</th>\n",
       "      <th>County</th>\n",
       "      <th>Dashboard Fuel Type Group</th>\n",
       "      <th>Fuel Type</th>\n",
       "      <th>Make</th>\n",
       "      <th>Model</th>\n",
       "      <th>Number of Vehicles</th>\n",
       "    </tr>\n",
       "  </thead>\n",
       "  <tbody>\n",
       "    <tr>\n",
       "      <th>0</th>\n",
       "      <td>2010</td>\n",
       "      <td>Alameda</td>\n",
       "      <td>Battery Electric (BEV)</td>\n",
       "      <td>Battery Electric (BEV)</td>\n",
       "      <td>Ford</td>\n",
       "      <td>Ranger</td>\n",
       "      <td>3</td>\n",
       "    </tr>\n",
       "    <tr>\n",
       "      <th>1</th>\n",
       "      <td>2010</td>\n",
       "      <td>Alameda</td>\n",
       "      <td>Battery Electric (BEV)</td>\n",
       "      <td>Battery Electric (BEV)</td>\n",
       "      <td>Tesla</td>\n",
       "      <td>Roadster</td>\n",
       "      <td>17</td>\n",
       "    </tr>\n",
       "    <tr>\n",
       "      <th>2</th>\n",
       "      <td>2010</td>\n",
       "      <td>Alameda</td>\n",
       "      <td>Diesel</td>\n",
       "      <td>Diesel</td>\n",
       "      <td>NaN</td>\n",
       "      <td>NaN</td>\n",
       "      <td>10939</td>\n",
       "    </tr>\n",
       "    <tr>\n",
       "      <th>3</th>\n",
       "      <td>2010</td>\n",
       "      <td>Alameda</td>\n",
       "      <td>Gasoline</td>\n",
       "      <td>Flex Fuel</td>\n",
       "      <td>NaN</td>\n",
       "      <td>NaN</td>\n",
       "      <td>10974</td>\n",
       "    </tr>\n",
       "    <tr>\n",
       "      <th>4</th>\n",
       "      <td>2010</td>\n",
       "      <td>Alameda</td>\n",
       "      <td>Gasoline</td>\n",
       "      <td>Gasoline</td>\n",
       "      <td>NaN</td>\n",
       "      <td>NaN</td>\n",
       "      <td>840577</td>\n",
       "    </tr>\n",
       "  </tbody>\n",
       "</table>\n",
       "</div>"
      ],
      "text/plain": [
       "   Data Year   County Dashboard Fuel Type Group               Fuel Type  \\\n",
       "0       2010  Alameda    Battery Electric (BEV)  Battery Electric (BEV)   \n",
       "1       2010  Alameda    Battery Electric (BEV)  Battery Electric (BEV)   \n",
       "2       2010  Alameda                    Diesel                  Diesel   \n",
       "3       2010  Alameda                  Gasoline               Flex Fuel   \n",
       "4       2010  Alameda                  Gasoline                Gasoline   \n",
       "\n",
       "    Make     Model  Number of Vehicles  \n",
       "0   Ford    Ranger                   3  \n",
       "1  Tesla  Roadster                  17  \n",
       "2    NaN       NaN               10939  \n",
       "3    NaN       NaN               10974  \n",
       "4    NaN       NaN              840577  "
      ]
     },
     "execution_count": 18,
     "metadata": {},
     "output_type": "execute_result"
    }
   ],
   "source": [
    "#import data\n",
    "vehicles = pd.read_csv('Vehicle_Population.csv')\n",
    "vehicles.head()"
   ]
  },
  {
   "cell_type": "code",
   "execution_count": 19,
   "metadata": {},
   "outputs": [
    {
     "data": {
      "text/plain": [
       "Data Year                     int64\n",
       "County                       object\n",
       "Dashboard Fuel Type Group    object\n",
       "Fuel Type                    object\n",
       "Make                         object\n",
       "Model                        object\n",
       "Number of Vehicles            int64\n",
       "dtype: object"
      ]
     },
     "execution_count": 19,
     "metadata": {},
     "output_type": "execute_result"
    }
   ],
   "source": [
    "#check data types\n",
    "vehicles.dtypes"
   ]
  },
  {
   "cell_type": "code",
   "execution_count": 20,
   "metadata": {},
   "outputs": [
    {
     "data": {
      "text/plain": [
       "Data Year                       0\n",
       "County                          0\n",
       "Dashboard Fuel Type Group       0\n",
       "Fuel Type                       0\n",
       "Make                         4322\n",
       "Model                        4322\n",
       "Number of Vehicles              0\n",
       "dtype: int64"
      ]
     },
     "execution_count": 20,
     "metadata": {},
     "output_type": "execute_result"
    }
   ],
   "source": [
    "#check if and where there are null values\n",
    "vehicles.isnull().sum()"
   ]
  },
  {
   "cell_type": "code",
   "execution_count": 21,
   "metadata": {},
   "outputs": [
    {
     "data": {
      "text/plain": [
       "Fuel Type\n",
       "Natural Gas    652\n",
       "Propane        602\n",
       "Name: count, dtype: int64"
      ]
     },
     "execution_count": 21,
     "metadata": {},
     "output_type": "execute_result"
    }
   ],
   "source": [
    "# confirm what fuel type 'other' falls under\n",
    "observe_other = vehicles[vehicles['Dashboard Fuel Type Group'] == 'Other']\n",
    "observe_other.value_counts('Fuel Type')"
   ]
  },
  {
   "cell_type": "markdown",
   "metadata": {},
   "source": [
    "### Select Data of Interest"
   ]
  },
  {
   "cell_type": "code",
   "execution_count": 22,
   "metadata": {},
   "outputs": [
    {
     "data": {
      "text/html": [
       "<div>\n",
       "<style scoped>\n",
       "    .dataframe tbody tr th:only-of-type {\n",
       "        vertical-align: middle;\n",
       "    }\n",
       "\n",
       "    .dataframe tbody tr th {\n",
       "        vertical-align: top;\n",
       "    }\n",
       "\n",
       "    .dataframe thead th {\n",
       "        text-align: right;\n",
       "    }\n",
       "</style>\n",
       "<table border=\"1\" class=\"dataframe\">\n",
       "  <thead>\n",
       "    <tr style=\"text-align: right;\">\n",
       "      <th></th>\n",
       "      <th>Year</th>\n",
       "      <th>County</th>\n",
       "      <th>Fuel Type</th>\n",
       "      <th>Number of Vehicles</th>\n",
       "    </tr>\n",
       "  </thead>\n",
       "  <tbody>\n",
       "    <tr>\n",
       "      <th>395</th>\n",
       "      <td>2011</td>\n",
       "      <td>Alameda</td>\n",
       "      <td>Battery Electric (BEV)</td>\n",
       "      <td>3</td>\n",
       "    </tr>\n",
       "    <tr>\n",
       "      <th>396</th>\n",
       "      <td>2011</td>\n",
       "      <td>Alameda</td>\n",
       "      <td>Battery Electric (BEV)</td>\n",
       "      <td>273</td>\n",
       "    </tr>\n",
       "    <tr>\n",
       "      <th>397</th>\n",
       "      <td>2011</td>\n",
       "      <td>Alameda</td>\n",
       "      <td>Battery Electric (BEV)</td>\n",
       "      <td>23</td>\n",
       "    </tr>\n",
       "    <tr>\n",
       "      <th>398</th>\n",
       "      <td>2011</td>\n",
       "      <td>Alameda</td>\n",
       "      <td>Diesel</td>\n",
       "      <td>11433</td>\n",
       "    </tr>\n",
       "    <tr>\n",
       "      <th>399</th>\n",
       "      <td>2011</td>\n",
       "      <td>Alameda</td>\n",
       "      <td>Gasoline</td>\n",
       "      <td>12765</td>\n",
       "    </tr>\n",
       "    <tr>\n",
       "      <th>...</th>\n",
       "      <td>...</td>\n",
       "      <td>...</td>\n",
       "      <td>...</td>\n",
       "      <td>...</td>\n",
       "    </tr>\n",
       "    <tr>\n",
       "      <th>14500</th>\n",
       "      <td>2019</td>\n",
       "      <td>Yuba</td>\n",
       "      <td>Plug-in Hybrid (PHEV)</td>\n",
       "      <td>2</td>\n",
       "    </tr>\n",
       "    <tr>\n",
       "      <th>14501</th>\n",
       "      <td>2019</td>\n",
       "      <td>Yuba</td>\n",
       "      <td>Plug-in Hybrid (PHEV)</td>\n",
       "      <td>23</td>\n",
       "    </tr>\n",
       "    <tr>\n",
       "      <th>14502</th>\n",
       "      <td>2019</td>\n",
       "      <td>Yuba</td>\n",
       "      <td>Plug-in Hybrid (PHEV)</td>\n",
       "      <td>8</td>\n",
       "    </tr>\n",
       "    <tr>\n",
       "      <th>14503</th>\n",
       "      <td>2019</td>\n",
       "      <td>Yuba</td>\n",
       "      <td>Other</td>\n",
       "      <td>4</td>\n",
       "    </tr>\n",
       "    <tr>\n",
       "      <th>14504</th>\n",
       "      <td>2019</td>\n",
       "      <td>Yuba</td>\n",
       "      <td>Other</td>\n",
       "      <td>3</td>\n",
       "    </tr>\n",
       "  </tbody>\n",
       "</table>\n",
       "<p>13777 rows × 4 columns</p>\n",
       "</div>"
      ],
      "text/plain": [
       "       Year   County               Fuel Type  Number of Vehicles\n",
       "395    2011  Alameda  Battery Electric (BEV)                   3\n",
       "396    2011  Alameda  Battery Electric (BEV)                 273\n",
       "397    2011  Alameda  Battery Electric (BEV)                  23\n",
       "398    2011  Alameda                  Diesel               11433\n",
       "399    2011  Alameda                Gasoline               12765\n",
       "...     ...      ...                     ...                 ...\n",
       "14500  2019     Yuba   Plug-in Hybrid (PHEV)                   2\n",
       "14501  2019     Yuba   Plug-in Hybrid (PHEV)                  23\n",
       "14502  2019     Yuba   Plug-in Hybrid (PHEV)                   8\n",
       "14503  2019     Yuba                   Other                   4\n",
       "14504  2019     Yuba                   Other                   3\n",
       "\n",
       "[13777 rows x 4 columns]"
      ]
     },
     "execution_count": 22,
     "metadata": {},
     "output_type": "execute_result"
    }
   ],
   "source": [
    "#select years between 2011 and 2019\n",
    "vehicles = vehicles[vehicles['Data Year'].between(2011,2019)]\n",
    "vehicles = vehicles.rename(columns={'Data Year': 'Year'})\n",
    "\n",
    "#drop columns \"make\" and \"model\" and 'Fuel Type'\n",
    "vehicles = vehicles.drop(['Make', 'Model', 'Fuel Type'], axis = 1)\n",
    "\n",
    "#rename to shorten 'Dashboard Fuel Type Group'\n",
    "vehicles.rename(columns={'Dashboard Fuel Type Group': 'Fuel Type'}, inplace=True)\n",
    "\n",
    "#remove any observations that are \"Out Of State\"\n",
    "vehicles = vehicles[vehicles['County'] != 'Out Of State']\n",
    "\n",
    "vehicles"
   ]
  },
  {
   "cell_type": "code",
   "execution_count": 23,
   "metadata": {},
   "outputs": [
    {
     "data": {
      "text/html": [
       "<div>\n",
       "<style scoped>\n",
       "    .dataframe tbody tr th:only-of-type {\n",
       "        vertical-align: middle;\n",
       "    }\n",
       "\n",
       "    .dataframe tbody tr th {\n",
       "        vertical-align: top;\n",
       "    }\n",
       "\n",
       "    .dataframe thead th {\n",
       "        text-align: right;\n",
       "    }\n",
       "</style>\n",
       "<table border=\"1\" class=\"dataframe\">\n",
       "  <thead>\n",
       "    <tr style=\"text-align: right;\">\n",
       "      <th></th>\n",
       "      <th>Year</th>\n",
       "      <th>Electric Type</th>\n",
       "      <th>Number of Vehicles</th>\n",
       "    </tr>\n",
       "  </thead>\n",
       "  <tbody>\n",
       "    <tr>\n",
       "      <th>0</th>\n",
       "      <td>2011</td>\n",
       "      <td>BH</td>\n",
       "      <td>430311</td>\n",
       "    </tr>\n",
       "    <tr>\n",
       "      <th>1</th>\n",
       "      <td>2011</td>\n",
       "      <td>N</td>\n",
       "      <td>21441786</td>\n",
       "    </tr>\n",
       "    <tr>\n",
       "      <th>2</th>\n",
       "      <td>2012</td>\n",
       "      <td>BH</td>\n",
       "      <td>508155</td>\n",
       "    </tr>\n",
       "    <tr>\n",
       "      <th>3</th>\n",
       "      <td>2012</td>\n",
       "      <td>N</td>\n",
       "      <td>21513297</td>\n",
       "    </tr>\n",
       "    <tr>\n",
       "      <th>4</th>\n",
       "      <td>2013</td>\n",
       "      <td>BH</td>\n",
       "      <td>646328</td>\n",
       "    </tr>\n",
       "    <tr>\n",
       "      <th>5</th>\n",
       "      <td>2013</td>\n",
       "      <td>N</td>\n",
       "      <td>22129867</td>\n",
       "    </tr>\n",
       "    <tr>\n",
       "      <th>6</th>\n",
       "      <td>2014</td>\n",
       "      <td>BH</td>\n",
       "      <td>800512</td>\n",
       "    </tr>\n",
       "    <tr>\n",
       "      <th>7</th>\n",
       "      <td>2014</td>\n",
       "      <td>N</td>\n",
       "      <td>22590130</td>\n",
       "    </tr>\n",
       "    <tr>\n",
       "      <th>8</th>\n",
       "      <td>2015</td>\n",
       "      <td>BH</td>\n",
       "      <td>932383</td>\n",
       "    </tr>\n",
       "    <tr>\n",
       "      <th>9</th>\n",
       "      <td>2015</td>\n",
       "      <td>N</td>\n",
       "      <td>22963741</td>\n",
       "    </tr>\n",
       "    <tr>\n",
       "      <th>10</th>\n",
       "      <td>2016</td>\n",
       "      <td>BH</td>\n",
       "      <td>1078898</td>\n",
       "    </tr>\n",
       "    <tr>\n",
       "      <th>11</th>\n",
       "      <td>2016</td>\n",
       "      <td>N</td>\n",
       "      <td>23807323</td>\n",
       "    </tr>\n",
       "    <tr>\n",
       "      <th>12</th>\n",
       "      <td>2017</td>\n",
       "      <td>BH</td>\n",
       "      <td>1327051</td>\n",
       "    </tr>\n",
       "    <tr>\n",
       "      <th>13</th>\n",
       "      <td>2017</td>\n",
       "      <td>N</td>\n",
       "      <td>26643349</td>\n",
       "    </tr>\n",
       "    <tr>\n",
       "      <th>14</th>\n",
       "      <td>2018</td>\n",
       "      <td>BH</td>\n",
       "      <td>1494479</td>\n",
       "    </tr>\n",
       "    <tr>\n",
       "      <th>15</th>\n",
       "      <td>2018</td>\n",
       "      <td>N</td>\n",
       "      <td>26754541</td>\n",
       "    </tr>\n",
       "    <tr>\n",
       "      <th>16</th>\n",
       "      <td>2019</td>\n",
       "      <td>BH</td>\n",
       "      <td>1661246</td>\n",
       "    </tr>\n",
       "    <tr>\n",
       "      <th>17</th>\n",
       "      <td>2019</td>\n",
       "      <td>N</td>\n",
       "      <td>26877095</td>\n",
       "    </tr>\n",
       "  </tbody>\n",
       "</table>\n",
       "</div>"
      ],
      "text/plain": [
       "    Year Electric Type  Number of Vehicles\n",
       "0   2011            BH              430311\n",
       "1   2011             N            21441786\n",
       "2   2012            BH              508155\n",
       "3   2012             N            21513297\n",
       "4   2013            BH              646328\n",
       "5   2013             N            22129867\n",
       "6   2014            BH              800512\n",
       "7   2014             N            22590130\n",
       "8   2015            BH              932383\n",
       "9   2015             N            22963741\n",
       "10  2016            BH             1078898\n",
       "11  2016             N            23807323\n",
       "12  2017            BH             1327051\n",
       "13  2017             N            26643349\n",
       "14  2018            BH             1494479\n",
       "15  2018             N            26754541\n",
       "16  2019            BH             1661246\n",
       "17  2019             N            26877095"
      ]
     },
     "execution_count": 23,
     "metadata": {},
     "output_type": "execute_result"
    }
   ],
   "source": [
    "#Divide 'Fuel Type' into: BEV or Hybrid (BH), and Non-Electric (N)\n",
    "def divide_electric_type(fuel_type):\n",
    "    if '(BEV)' in fuel_type or 'Hybrid' in fuel_type or 'FCEV' in fuel_type:\n",
    "        return 'BH'\n",
    "    else:\n",
    "        return 'N'\n",
    "\n",
    "#Create new column 'Electric Type'\n",
    "vehicles['Electric Type'] = vehicles['Fuel Type'].apply(divide_electric_type)\n",
    "\n",
    "#Sum up counts of vehicles for each 'Electric Type'\n",
    "vehicle_counts_year = vehicles.groupby(['Year', 'Electric Type'])['Number of Vehicles'].sum().reset_index()\n",
    "vehicle_counts_year"
   ]
  },
  {
   "cell_type": "markdown",
   "metadata": {},
   "source": [
    "# Results\n",
    "\n",
    "## Exploratory Data Analysis"
   ]
  },
  {
   "cell_type": "markdown",
   "metadata": {},
   "source": [
    "### Line Plot\n",
    "\n",
    "In section 1, asthma-related emergency visits and electric vehicle trends are examined over the years 2011-2019. Visualized through line plots, we can see how the visits have evolved. Analysis suggests that there may not be a direct correlation of asthma related visits and specific fuel types. We can see through the visualizations that there isn't an inherent causative relationship between the two variables. \n"
   ]
  },
  {
   "cell_type": "code",
   "execution_count": 24,
   "metadata": {},
   "outputs": [],
   "source": [
    "color_dict = {'BH': 'green', 'N': 'red'}"
   ]
  },
  {
   "cell_type": "code",
   "execution_count": 25,
   "metadata": {},
   "outputs": [
    {
     "data": {
      "image/png": "[encoded data removed]",
      "text/plain": [
       "<Figure size 864x432 with 1 Axes>"
      ]
     },
     "metadata": {},
     "output_type": "display_data"
    }
   ],
   "source": [
    "#Combine numberator for each year to see coherent trend\n",
    "combined_numerator = asthma_df.groupby('Year')['Numerator'].sum().reset_index()\n",
    "\n",
    "#Taking a look at asthma rates across the years\n",
    "plt.figure(figsize=(12, 6))\n",
    "\n",
    "sns.lineplot(data=combined_numerator, x='Year', y='Numerator')\n",
    "\n",
    "plt.xlabel('Year')\n",
    "plt.ylabel('Numerator')\n",
    "plt.title('Asthma ED visits per Year')\n",
    "\n",
    "plt.tight_layout()\n",
    "plt.show()"
   ]
  },
  {
   "cell_type": "markdown",
   "metadata": {},
   "source": [
    "Here is our dataset that includes information about the number of electric vehicles for different years and electric types."
   ]
  },
  {
   "cell_type": "code",
   "execution_count": 26,
   "metadata": {},
   "outputs": [
    {
     "data": {
      "text/html": [
       "<div>\n",
       "<style scoped>\n",
       "    .dataframe tbody tr th:only-of-type {\n",
       "        vertical-align: middle;\n",
       "    }\n",
       "\n",
       "    .dataframe tbody tr th {\n",
       "        vertical-align: top;\n",
       "    }\n",
       "\n",
       "    .dataframe thead th {\n",
       "        text-align: right;\n",
       "    }\n",
       "</style>\n",
       "<table border=\"1\" class=\"dataframe\">\n",
       "  <thead>\n",
       "    <tr style=\"text-align: right;\">\n",
       "      <th></th>\n",
       "      <th>Year</th>\n",
       "      <th>Electric Type</th>\n",
       "      <th>Number of Vehicles</th>\n",
       "    </tr>\n",
       "  </thead>\n",
       "  <tbody>\n",
       "    <tr>\n",
       "      <th>0</th>\n",
       "      <td>2011</td>\n",
       "      <td>BH</td>\n",
       "      <td>430311</td>\n",
       "    </tr>\n",
       "    <tr>\n",
       "      <th>1</th>\n",
       "      <td>2011</td>\n",
       "      <td>N</td>\n",
       "      <td>21441786</td>\n",
       "    </tr>\n",
       "    <tr>\n",
       "      <th>2</th>\n",
       "      <td>2012</td>\n",
       "      <td>BH</td>\n",
       "      <td>508155</td>\n",
       "    </tr>\n",
       "    <tr>\n",
       "      <th>3</th>\n",
       "      <td>2012</td>\n",
       "      <td>N</td>\n",
       "      <td>21513297</td>\n",
       "    </tr>\n",
       "    <tr>\n",
       "      <th>4</th>\n",
       "      <td>2013</td>\n",
       "      <td>BH</td>\n",
       "      <td>646328</td>\n",
       "    </tr>\n",
       "    <tr>\n",
       "      <th>5</th>\n",
       "      <td>2013</td>\n",
       "      <td>N</td>\n",
       "      <td>22129867</td>\n",
       "    </tr>\n",
       "    <tr>\n",
       "      <th>6</th>\n",
       "      <td>2014</td>\n",
       "      <td>BH</td>\n",
       "      <td>800512</td>\n",
       "    </tr>\n",
       "    <tr>\n",
       "      <th>7</th>\n",
       "      <td>2014</td>\n",
       "      <td>N</td>\n",
       "      <td>22590130</td>\n",
       "    </tr>\n",
       "    <tr>\n",
       "      <th>8</th>\n",
       "      <td>2015</td>\n",
       "      <td>BH</td>\n",
       "      <td>932383</td>\n",
       "    </tr>\n",
       "    <tr>\n",
       "      <th>9</th>\n",
       "      <td>2015</td>\n",
       "      <td>N</td>\n",
       "      <td>22963741</td>\n",
       "    </tr>\n",
       "    <tr>\n",
       "      <th>10</th>\n",
       "      <td>2016</td>\n",
       "      <td>BH</td>\n",
       "      <td>1078898</td>\n",
       "    </tr>\n",
       "    <tr>\n",
       "      <th>11</th>\n",
       "      <td>2016</td>\n",
       "      <td>N</td>\n",
       "      <td>23807323</td>\n",
       "    </tr>\n",
       "    <tr>\n",
       "      <th>12</th>\n",
       "      <td>2017</td>\n",
       "      <td>BH</td>\n",
       "      <td>1327051</td>\n",
       "    </tr>\n",
       "    <tr>\n",
       "      <th>13</th>\n",
       "      <td>2017</td>\n",
       "      <td>N</td>\n",
       "      <td>26643349</td>\n",
       "    </tr>\n",
       "    <tr>\n",
       "      <th>14</th>\n",
       "      <td>2018</td>\n",
       "      <td>BH</td>\n",
       "      <td>1494479</td>\n",
       "    </tr>\n",
       "    <tr>\n",
       "      <th>15</th>\n",
       "      <td>2018</td>\n",
       "      <td>N</td>\n",
       "      <td>26754541</td>\n",
       "    </tr>\n",
       "    <tr>\n",
       "      <th>16</th>\n",
       "      <td>2019</td>\n",
       "      <td>BH</td>\n",
       "      <td>1661246</td>\n",
       "    </tr>\n",
       "    <tr>\n",
       "      <th>17</th>\n",
       "      <td>2019</td>\n",
       "      <td>N</td>\n",
       "      <td>26877095</td>\n",
       "    </tr>\n",
       "  </tbody>\n",
       "</table>\n",
       "</div>"
      ],
      "text/plain": [
       "    Year Electric Type  Number of Vehicles\n",
       "0   2011            BH              430311\n",
       "1   2011             N            21441786\n",
       "2   2012            BH              508155\n",
       "3   2012             N            21513297\n",
       "4   2013            BH              646328\n",
       "5   2013             N            22129867\n",
       "6   2014            BH              800512\n",
       "7   2014             N            22590130\n",
       "8   2015            BH              932383\n",
       "9   2015             N            22963741\n",
       "10  2016            BH             1078898\n",
       "11  2016             N            23807323\n",
       "12  2017            BH             1327051\n",
       "13  2017             N            26643349\n",
       "14  2018            BH             1494479\n",
       "15  2018             N            26754541\n",
       "16  2019            BH             1661246\n",
       "17  2019             N            26877095"
      ]
     },
     "execution_count": 26,
     "metadata": {},
     "output_type": "execute_result"
    }
   ],
   "source": [
    "vehicle_counts_year"
   ]
  },
  {
   "cell_type": "markdown",
   "metadata": {},
   "source": [
    "Next, we are visualizing the trend of vehicle types over the years 2011-2019 through an additional line plot."
   ]
  },
  {
   "cell_type": "code",
   "execution_count": 27,
   "metadata": {},
   "outputs": [
    {
     "data": {
      "image/png": "[encoded data removed]",
      "text/plain": [
       "<Figure size 864x432 with 1 Axes>"
      ]
     },
     "metadata": {},
     "output_type": "display_data"
    }
   ],
   "source": [
    "#Plot the trend of Vehicle Types, 2011-2019\n",
    "plt.figure(figsize=(12, 6))\n",
    "\n",
    "sns.lineplot(data=vehicle_counts_year, x='Year', y='Number of Vehicles', hue='Electric Type', palette=color_dict)\n",
    "\n",
    "plt.xlabel('Year')\n",
    "plt.ylabel('Number of Vehicles')\n",
    "plt.title('Counts of Vehicles by Electric Type over Years')\n",
    "plt.legend(title='Electric Type')\n",
    "\n",
    "plt.tight_layout()\n",
    "plt.show()"
   ]
  },
  {
   "cell_type": "markdown",
   "metadata": {},
   "source": [
    "When we look at it by number, the number of electric vehicle goes up. But that is to be expected with the growing population, so let us look at proportion."
   ]
  },
  {
   "cell_type": "code",
   "execution_count": 28,
   "metadata": {},
   "outputs": [
    {
     "data": {
      "image/png": "[encoded data removed]",
      "text/plain": [
       "<Figure size 576x360 with 1 Axes>"
      ]
     },
     "metadata": {},
     "output_type": "display_data"
    }
   ],
   "source": [
    "#Now let's see the vehicle type proportion\n",
    "prop_by_year = (\n",
    "    vehicles.groupby(['Year','Electric Type'])['Number of Vehicles'].sum() / \n",
    "    vehicles.groupby(['Year'])['Number of Vehicles'].sum()).reset_index()\n",
    "prop_by_year = prop_by_year.rename(columns={'Number of Vehicles':'Proportion'})\n",
    "\n",
    "plt.figure(figsize=(8, 5))\n",
    "sns.lineplot(data=prop_by_year, x='Year', y='Proportion', \n",
    "             hue='Electric Type', palette=color_dict).set(title='Vehicle Type Proportion by Year');"
   ]
  },
  {
   "cell_type": "markdown",
   "metadata": {},
   "source": [
    "Although the lines above doesn't seem like a significant difference, the raw number\n",
    "of car changes quite significantly. The proportion for non-electric and hybrid decreases\n",
    "(*For example, the battery electric car in 2011 is 4208 cars but by 2019 is becomes 305335 cars*).\n",
    "\n",
    "**So, let's look at the growth separately:**"
   ]
  },
  {
   "cell_type": "code",
   "execution_count": 29,
   "metadata": {},
   "outputs": [],
   "source": [
    "bh_prop_by_year = prop_by_year[prop_by_year['Electric Type'] == 'BH']\n",
    "n_prop_by_year = prop_by_year[prop_by_year['Electric Type'] == 'N']"
   ]
  },
  {
   "cell_type": "code",
   "execution_count": 30,
   "metadata": {},
   "outputs": [
    {
     "data": {
      "image/png": "[encoded data removed]",
      "text/plain": [
       "<Figure size 1800x648 with 2 Axes>"
      ]
     },
     "metadata": {},
     "output_type": "display_data"
    }
   ],
   "source": [
    "plt.rcParams[\"figure.figsize\"] = [25.00, 9.00]\n",
    "f, axes = plt.subplots(1, 2)\n",
    "\n",
    "sns.lineplot(data=bh_prop_by_year, x='Year', y='Proportion', ax=axes[0], \n",
    "             color='green', label='BH').set(title='BEV and Hybrid Vehicles Proportion by Year');\n",
    "sns.lineplot(data=n_prop_by_year, x='Year', y='Proportion', ax=axes[1], \n",
    "             color='red', label='N').set(title='non-Electric Vehicles Proportion by Year');"
   ]
  },
  {
   "cell_type": "markdown",
   "metadata": {},
   "source": [
    "In the line plot on the left, we can see that the proportion of BEV and Hybrid Vehicles by year has steadily increased over the time period 2011 to 2019. In the line plot on the right, we can see an opposite trend, that the proportion of non-Electric Vehicles by year has steadily decreased."
   ]
  },
  {
   "cell_type": "markdown",
   "metadata": {},
   "source": [
    "### Polynomial Regression\n",
    "\n",
    "In section 2, polynomial regression is used to understand the relationship between electric vehicles and asthma-related emergency visits. The scatter plot shows data points portraying variability in the relationship. There is a relationship if the polynomial regression aligns with the scatter plot. Here, there is a lack of a prominent and clear pattern in its regression, suggesting the absence of the relationship of the two variables."
   ]
  },
  {
   "cell_type": "code",
   "execution_count": 31,
   "metadata": {},
   "outputs": [],
   "source": [
    "from sklearn.preprocessing import PolynomialFeatures \n",
    "from sklearn.linear_model import LinearRegression\n",
    "\n",
    "np.random.seed(0)\n",
    "years = np.arange(2010, 2020)\n",
    "asthma_visits = np.random.randint(1000, 5000, size=len(years))\n",
    "age_groups = ['0-4', '5-14', '15-24', '25-34', '35-44', '45-54', '55-64', '65+']\n",
    "asthma_data = pd.DataFrame({\n",
    "    'Year': np.repeat(years, len(age_groups)),\n",
    "    'Age_Group': age_groups * len(years),\n",
    "    'Emergency_Visits': np.random.choice(asthma_visits, size=len(years) * len(age_groups))\n",
    "})\n",
    "\n",
    "electric_vehicles = np.random.randint(5000, 20000, size=len(years))\n",
    "non_electric_vehicles = np.random.randint(20000, 50000, size=len(years))\n",
    "vehicles_data = pd.DataFrame({\n",
    "    'Year': years,\n",
    "    'Electric_Vehicles': electric_vehicles,\n",
    "    'Non_Electric_Vehicles': non_electric_vehicles\n",
    "})"
   ]
  },
  {
   "cell_type": "code",
   "execution_count": 32,
   "metadata": {},
   "outputs": [],
   "source": [
    "# Aggregating asthma data by year\n",
    "asthma_yearly = asthma_data.groupby('Year')['Emergency_Visits'].mean().reset_index()\n",
    "\n",
    "# Merging with vehicle data\n",
    "combined_data = pd.merge(asthma_yearly, vehicles_data, on='Year')\n",
    "\n",
    "# Ensure we're working with the correct shape of the data for sklearn\n",
    "X = combined_data['Electric_Vehicles'].values.reshape(-1, 1)\n",
    "y = combined_data['Emergency_Visits'].values\n",
    "\n",
    "correlation = combined_data[['Emergency_Visits', 'Electric_Vehicles']].corr()"
   ]
  },
  {
   "cell_type": "code",
   "execution_count": 33,
   "metadata": {},
   "outputs": [],
   "source": [
    "# Generating polynomial features\n",
    "poly = PolynomialFeatures(degree=3) # You can adjust the degree based on the data\n",
    "X_poly = poly.fit_transform(X)\n",
    "\n",
    "# Performing polynomial regression\n",
    "model = LinearRegression()\n",
    "model.fit(X_poly, y)\n",
    "\n",
    "# Predicting using the polynomial model\n",
    "y_pred = model.predict(X_poly)"
   ]
  },
  {
   "cell_type": "code",
   "execution_count": 34,
   "metadata": {},
   "outputs": [
    {
     "data": {
      "image/png": "[encoded data removed]",
      "text/plain": [
       "<Figure size 720x432 with 1 Axes>"
      ]
     },
     "metadata": {},
     "output_type": "display_data"
    }
   ],
   "source": [
    "# Plotting the results\n",
    "plt.figure(figsize=(10, 6))\n",
    "# Scatter plot for actual data points\n",
    "plt.scatter(X, y, label='Actual Data')\n",
    "\n",
    "# Line plot for the model's predictions. We sort the values for a smooth line. \n",
    "sorted_order = np.argsort(X.ravel())\n",
    "plt.plot(X.ravel()[sorted_order], y_pred[sorted_order], color='red', label='Polynomial Regression Fit')\n",
    "plt.title('Polynomial Regression of Electric Vehicles and Asthma-Related Emergency Visits', fontsize=15)\n",
    "plt.xlabel('Number of Electric Vehicles', fontsize=16) \n",
    "plt.ylabel('Average Asthma-Related Emergency Visits', fontsize=16) \n",
    "plt.legend(fontsize=14)\n",
    "plt.grid(True)\n",
    "plt.show()"
   ]
  },
  {
   "cell_type": "markdown",
   "metadata": {},
   "source": [
    "From the graph, we can see that there is no distinct relationship between the number of electric vehicles and the average number of asthma-related emergency visits."
   ]
  },
  {
   "cell_type": "code",
   "execution_count": 35,
   "metadata": {},
   "outputs": [
    {
     "name": "stdout",
     "output_type": "stream",
     "text": [
      "                   Emergency_Visits  Electric_Vehicles\n",
      "Emergency_Visits           1.000000           0.165755\n",
      "Electric_Vehicles          0.165755           1.000000\n"
     ]
    }
   ],
   "source": [
    "print(correlation)"
   ]
  },
  {
   "cell_type": "markdown",
   "metadata": {},
   "source": [
    "Based on the correlation coefficient, there is a very weak positive correlation between the number of electric vehicles and the average number of asthma-related emergency visits."
   ]
  },
  {
   "cell_type": "markdown",
   "metadata": {},
   "source": [
    "# Ethics & Privacy"
   ]
  },
  {
   "cell_type": "markdown",
   "metadata": {},
   "source": [
    "Some data may include personal information about individuals, e.g. vehicle registration details, and data concerning health privacy of individuals’ medical records. However, the data collected removes all personal identifiers and focuses solely on the frequency of counts for ER visits and ZEVs therefore the topic of data we’re working with. Any sensitive personal information \n",
    "that could potentially impact the privacy of certain people or groups of people have been removed.\n",
    "\n",
    "Some biases may occur on the extreme ends of socioeconomic status. Patients of higher socioeconomic status may use private clinics, which might be unaccounted for. On the other side of the spectrum, some families may not have access to healthcare which means that the true number of asthma-related emergency rates might be higher than the ones collected in lower income neighborhoods. Previous studies have shown that electric vehicles are adopted more frequently in neighborhoods of higher income and educational attainment. The findings of our research could reveal that there is a disparity between equity of living conditions in regards to air quality and the health consequences that come with it. While there is nothing within the scope of our research that can directly benefit these affected communities, bringing awareness to the impact that less access to EV’s can have on long-term respiratory health is a first step to pushing for change and greater access to affected communities.\n",
    "\n",
    "In order to address the identified ethical and privacy concerns in our project, we firstly acknowledge and document ethical issues associated with our research question, dataset, and analysis. We take precautions to ensure that the data we collect is from a reputable source and is properly anonymized, removing any personal identifiers and adhering to data privacy regulations, especially when dealing with sensitive healthcare data. We are aware of the possibility of selection bias and socioeconomic bias in our dataset, and we plan to account for these by using visualizations to identify irregularities, and work on detecting and accounting for biases throughout the research process, from start to finish. After analysis, we review potential biases and how it had an impact on the results we ended up with."
   ]
  },
  {
   "cell_type": "markdown",
   "metadata": {},
   "source": [
    "# Discussion and Conclusion\n",
    "\n",
    "In this research, our goal was to investigate whether or not the increase of electric vehicle (EV) adoption had an impact on the frequency of asthma-related emergency department visits in California. Our initial hypothesis proposed that the adoption of electric vehicles and hybrid cars  would lead to a decreased number of asthma related emergency visits in. Our findings, however, suggest otherwise, showing a lack of a distinct pattern and suggesting a lack of a straightforward relationship between electric vehicle adaptation and asthma related emergency visits.\n",
    "\n",
    "The polynomial regression analysis helped us dive deeper and understand better by identifying the weak positive correlation, challenging the initial hypothesis. This emphasized that there were more complex factors that lead to health concerns, outside of air pollution developed by gas vehicles. We find that the growing proportion of active EV and hybrid vehicles on the road in California did not have a correlation with the decreasing rate of asthma emergency visits. The data ends in 2019, meaning the data might be early on the trend as EV adoption seems to have grown most in popularity in the recent years of 2022 and 2023. Other reasons for lack of correlation could be that much of California is mostly suburban, meaning distance between residential areas and polluted streets may have enough of a distance that asthma and air quality cannot be closely linked. In a future study, populations could be selected in big cities that contain a dense population which might be more reflective of a relationship if there were one. People in densely populated areas deal with higher risk of the negative health consequences of vehicle pollution much more than people located in more suburban parts of where vehicle pollution is more easily avoided by staying indoors or transporting in a vehicle.\n",
    "\n",
    "Our study adds to research related to electric vehicles and its health implications. While our study challenges the idea that adaptation of electric vehicles has an impact on asthma related emergency visits, there is still a need for more study and research with the consideration of other factors. \n",
    "\n",
    "\n",
    "\n",
    "# Team Contributions\n",
    "* **Carolyn Evans:** Wrote abstract portion, Helped form research question and hypothesis with group, Wrote Dataset #1 description, Wrote analysis of EDA with Kyuyeon, Wrote team expectations and timeline, Created final presentation slides, Presented intro/background/research in final video, Edited final video\n",
    "* **Kang Gun Ham:** Forming research questions & hypotheses, Formatted Notebook & did github related task, tried to lead our discussion, Cleaned Dataset #1, helped/gave suggestions to clean Dataset #2, Worked on line plots with Michelle, Presented line graph in the final video.\n",
    "* **Kyuyeon Lee:** Wrote Discussion/Conclusion portion. Helped form research question and hypothesis with group. Wrote analysis of EDA with Carolyn. Worked on Ethics and Privacy. Presented Discussion/Conclusion in the final video.\n",
    "* **Michelle Liu:** Found datasets, helped decide on research question & hypothesis, Help lead and break down tasks, Dataset #2 description and cleaning, EDA line plots, Presented on Datasets and their cleaning in final video. \n",
    "* **Jianrui Zhang:** Wrote polynomial regression parts. Update material from ducument to notebook file. Formatted Notebook & did github related task. Help /gave suggestions to EDA hypothesis with group. Presented polynomial regression in the final video. "
   ]
  },
  {
   "cell_type": "code",
   "execution_count": null,
   "metadata": {},
   "outputs": [],
   "source": []
  }
 ],
 "metadata": {
  "kernelspec": {
   "display_name": "Python 3 (ipykernel)",
   "language": "python",
   "name": "python3"
  },
  "language_info": {
   "codemirror_mode": {
    "name": "ipython",
    "version": 3
   },
   "file_extension": ".py",
   "mimetype": "text/x-python",
   "name": "python",
   "nbconvert_exporter": "python",
   "pygments_lexer": "ipython3",
   "version": "3.9.5"
  }
 },
 "nbformat": 4,
 "nbformat_minor": 2
}
